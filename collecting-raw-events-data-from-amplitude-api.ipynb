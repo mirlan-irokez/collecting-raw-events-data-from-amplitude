{
 "cells": [
  {
   "cell_type": "code",
   "execution_count": null,
   "metadata": {
    "collapsed": true,
    "pycharm": {
     "name": "#%%\n"
    }
   },
   "outputs": [],
   "source": [
    "import requests\n",
    "import base64\n",
    "\n",
    "import zipfile\n",
    "import os\n",
    "import gzip"
   ]
  },
  {
   "cell_type": "code",
   "execution_count": null,
   "outputs": [],
   "source": [
    "# Replace YOUR_API_KEY and YOUR_SECRET_KEY with your actual Amplitude API key and secret key\n",
    "api_key = \"YOUR_API_KEY\"\n",
    "secret_key = \"YOUR_SECRET_KEY\"\n",
    "\n",
    "# Set the URL for the Amplitude API endpoint\n",
    "url = \"https://amplitude.com/api/2/export\"\n",
    "\n",
    "# Encode the API key and secret key as a base64 string\n",
    "credentials = base64.b64encode(f\"{api_key}:{secret_key}\".encode())\n",
    "\n",
    "# Set the headers for the API request\n",
    "headers = {\n",
    "    \"Authorization\": f\"Basic {credentials.decode()}\"\n",
    "}\n",
    "\n",
    "# Set the parameters for the API request\n",
    "params = {\n",
    "    \"start\": \"YYYYMMDD\",\n",
    "    \"end\": \"YYYYMMDD\"\n",
    "}"
   ],
   "metadata": {
    "collapsed": false,
    "pycharm": {
     "name": "#%%\n"
    }
   }
  },
  {
   "cell_type": "code",
   "execution_count": null,
   "outputs": [],
   "source": [
    "# Send the request to the Amplitude API\n",
    "response = requests.get(url, params=params, headers=headers)\n",
    "response"
   ],
   "metadata": {
    "collapsed": false,
    "pycharm": {
     "name": "#%%\n"
    }
   }
  },
  {
   "cell_type": "code",
   "execution_count": null,
   "outputs": [],
   "source": [
    "# Check if the status code 200\n",
    "if response.status_code == 200:\n",
    "    # If the request was successful, save the file\n",
    "    with open(\"amplitude_data.zip\", \"wb\") as f:\n",
    "        f.write(response.content)\n",
    "    print('ok')\n",
    "else:\n",
    "    # If the request was not successful, print the error message\n",
    "    print(response.text)"
   ],
   "metadata": {
    "collapsed": false,
    "pycharm": {
     "name": "#%%\n"
    }
   }
  },
  {
   "cell_type": "code",
   "execution_count": null,
   "outputs": [],
   "source": [
    "# Extract data from zip archive\n",
    "with zipfile.ZipFile('amplitude_data.zip', 'r') as zip_ref:\n",
    "    zip_ref.extractall('amplitude_data')"
   ],
   "metadata": {
    "collapsed": false,
    "pycharm": {
     "name": "#%%\n"
    }
   }
  },
  {
   "cell_type": "code",
   "execution_count": null,
   "outputs": [],
   "source": [
    "# Open unzipped folder. Change YOUR_FOLDER_NAME to the name in your path. For example ‘amplitude_data/430255’\n",
    "path = 'amplitude_data/YOUR_FOLDER_NAME/'\n",
    "files = os.listdir(path)\n",
    "\n",
    "# Create DataFrame\n",
    "df = pd.DataFrame()\n",
    "# Add all JSON files from ‘path’ to the Dataframe\n",
    "for file in files:\n",
    "    with gzip.open(path+file, 'rb') as f:\n",
    "        file_content = f.read()\n",
    "        df_i = pd.read_json(file_content, lines=True)\n",
    "        df = pd.concat([df, df_i], axis=0)"
   ],
   "metadata": {
    "collapsed": false,
    "pycharm": {
     "name": "#%%\n"
    }
   }
  },
  {
   "cell_type": "code",
   "execution_count": null,
   "outputs": [],
   "source": [
    "# Save to CSV\n",
    "df.to_csv('amplitude_data.csv', index=False)"
   ],
   "metadata": {
    "collapsed": false,
    "pycharm": {
     "name": "#%%\n"
    }
   }
  },
  {
   "cell_type": "code",
   "execution_count": null,
   "outputs": [],
   "source": [
    "# import csv to dataframe\n",
    "df = pd.read_csv('amplitude_data.csv')"
   ],
   "metadata": {
    "collapsed": false,
    "pycharm": {
     "name": "#%%\n"
    }
   }
  }
 ],
 "metadata": {
  "kernelspec": {
   "display_name": "Python 3",
   "language": "python",
   "name": "python3"
  },
  "language_info": {
   "codemirror_mode": {
    "name": "ipython",
    "version": 2
   },
   "file_extension": ".py",
   "mimetype": "text/x-python",
   "name": "python",
   "nbconvert_exporter": "python",
   "pygments_lexer": "ipython2",
   "version": "2.7.6"
  }
 },
 "nbformat": 4,
 "nbformat_minor": 0
}